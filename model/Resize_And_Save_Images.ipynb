{
 "cells": [
  {
   "cell_type": "code",
   "execution_count": 1,
   "metadata": {},
   "outputs": [],
   "source": [
    "import cv2\n",
    "import os"
   ]
  },
  {
   "cell_type": "code",
   "execution_count": 4,
   "metadata": {},
   "outputs": [
    {
     "data": {
      "text/plain": [
       "True"
      ]
     },
     "execution_count": 4,
     "metadata": {},
     "output_type": "execute_result"
    }
   ],
   "source": [
    "org_img = cv2.imread(\"/Users/fouad/Desktop/HU - Master Data Driven Design/Graduation/Datasets/Original Datasets/Flickr_Bing/Cardboard/Cardboard/Cardboard_6.jpeg\", cv2.IMREAD_UNCHANGED)\n",
    "dsize = (224,224)\n",
    "output_img = cv2.resize(org_img, dsize)\n",
    "cv2.imwrite(\"/Users/fouad/Desktop/HU - Master Data Driven Design/Graduation/Datasets/Compiled Dataset/Cardboard/Cardboard_6.jpg\", output_img)\n"
   ]
  },
  {
   "cell_type": "code",
   "execution_count": 17,
   "metadata": {},
   "outputs": [],
   "source": [
    "src_path = \"/Users/fouad/Desktop/HU - Master Data Driven Design/Graduation/Datasets/Original Datasets/Flickr_Bing/Cardboard/Cardboard\"\n",
    "dest_path = \"/Users/fouad/Desktop/HU - Master Data Driven Design/Graduation/Datasets/Compiled Dataset/Cardboard\"\n",
    "dsize = (224,224)\n",
    "counter = 1\n",
    "\n",
    "for files in os.listdir(src_path):\n",
    "    if files == \".DS_Store\":\n",
    "        continue\n",
    "    else:\n",
    "        counter+=1\n",
    "        org_img = cv2.imread(src_path+\"/\"+files)\n",
    "        output_img = cv2.resize(org_img, dsize)\n",
    "        cv2.imwrite(dest_path+\"/Cardboard_\"+str(counter)+\".jpg\",output_img)\n",
    "\n",
    "\n"
   ]
  },
  {
   "cell_type": "code",
   "execution_count": 5,
   "metadata": {},
   "outputs": [],
   "source": [
    "dsize = (224,224)\n",
    "counter = 1\n",
    "def resize_and_save(src_path1, src_path2, dest_path, class_name):\n",
    "    desize = (224,224)\n",
    "    counter = 0 \n",
    "    for files in os.listdir(src_path1):\n",
    "        if files == \".DS_Store\":\n",
    "            continue\n",
    "        else:\n",
    "            counter+=1\n",
    "            org_img = cv2.imread(src_path1+\"/\"+files)\n",
    "            output_img = cv2.resize(org_img, dsize)\n",
    "            cv2.imwrite(dest_path+\"/\"+class_name+\"_\"+str(counter)+\".jpg\",output_img)\n",
    "\n",
    "    for files in os.listdir(src_path2):\n",
    "        if files == \".DS_Store\":\n",
    "            continue\n",
    "        else:\n",
    "            counter+=1\n",
    "            org_img = cv2.imread(src_path2+\"/\"+files)\n",
    "            output_img = cv2.resize(org_img, dsize)\n",
    "            cv2.imwrite(dest_path+\"/\"+class_name+\"_\"+str(counter)+\".jpg\",output_img)\n"
   ]
  },
  {
   "cell_type": "code",
   "execution_count": 23,
   "metadata": {},
   "outputs": [],
   "source": [
    "resize_and_save(\"/Users/fouad/Desktop/HU - Master Data Driven Design/Graduation/Datasets/Original Datasets/Flickr_Bing/Cardboard/Cardboard\",\n",
    "                \"/Users/fouad/Desktop/HU - Master Data Driven Design/Graduation/Datasets/Manual Pictures/Converted/Cardboard\",\n",
    "               \"/Users/fouad/Desktop/HU - Master Data Driven Design/Graduation/Datasets/Compiled Dataset/Cardboard\",\n",
    "               \"Cardboard\")"
   ]
  },
  {
   "cell_type": "code",
   "execution_count": 25,
   "metadata": {},
   "outputs": [],
   "source": [
    "resize_and_save(\"/Users/fouad/Desktop/HU - Master Data Driven Design/Graduation/Datasets/Original Datasets/Flickr_Bing/Glass/Glass Bottle\",\n",
    "                \"/Users/fouad/Desktop/HU - Master Data Driven Design/Graduation/Datasets/Manual Pictures/Converted/Glass Bottle\",\n",
    "               \"/Users/fouad/Desktop/HU - Master Data Driven Design/Graduation/Datasets/Compiled Dataset/Glass Bottle\",\n",
    "               \"Glass_Bottle\")"
   ]
  },
  {
   "cell_type": "code",
   "execution_count": 26,
   "metadata": {},
   "outputs": [],
   "source": [
    "resize_and_save(\"/Users/fouad/Desktop/HU - Master Data Driven Design/Graduation/Datasets/Original Datasets/Flickr_Bing/Glass/Glass Cup\",\n",
    "                \"/Users/fouad/Desktop/HU - Master Data Driven Design/Graduation/Datasets/Manual Pictures/Converted/Glass Cup\",\n",
    "               \"/Users/fouad/Desktop/HU - Master Data Driven Design/Graduation/Datasets/Compiled Dataset/Glass Cup\",\n",
    "               \"Glass_Cup\")"
   ]
  },
  {
   "cell_type": "code",
   "execution_count": 27,
   "metadata": {},
   "outputs": [],
   "source": [
    "resize_and_save(\"/Users/fouad/Desktop/HU - Master Data Driven Design/Graduation/Datasets/Original Datasets/Flickr_Bing/Plastic/Drinking Carton\",\n",
    "                \"/Users/fouad/Desktop/HU - Master Data Driven Design/Graduation/Datasets/Manual Pictures/Converted/Drinking Carton\",\n",
    "               \"/Users/fouad/Desktop/HU - Master Data Driven Design/Graduation/Datasets/Compiled Dataset/Drinking Carton\",\n",
    "               \"Drinking_Carton\")"
   ]
  },
  {
   "cell_type": "code",
   "execution_count": 28,
   "metadata": {},
   "outputs": [],
   "source": [
    "resize_and_save(\"/Users/fouad/Desktop/HU - Master Data Driven Design/Graduation/Datasets/Original Datasets/Flickr_Bing/Plastic/Plastic Bag\",\n",
    "                \"/Users/fouad/Desktop/HU - Master Data Driven Design/Graduation/Datasets/Manual Pictures/Converted/Plastic Bag\",\n",
    "               \"/Users/fouad/Desktop/HU - Master Data Driven Design/Graduation/Datasets/Compiled Dataset/Plastic Bag\",\n",
    "               \"Plastic_Bag\")"
   ]
  },
  {
   "cell_type": "code",
   "execution_count": 29,
   "metadata": {},
   "outputs": [],
   "source": [
    "resize_and_save(\"/Users/fouad/Desktop/HU - Master Data Driven Design/Graduation/Datasets/Original Datasets/Flickr_Bing/Plastic/Plastic Bottle\",\n",
    "                \"/Users/fouad/Desktop/HU - Master Data Driven Design/Graduation/Datasets/Manual Pictures/Converted/Plastic Bottle\",\n",
    "               \"/Users/fouad/Desktop/HU - Master Data Driven Design/Graduation/Datasets/Compiled Dataset/Plastic Bottle\",\n",
    "               \"Plastic_Bottle\")"
   ]
  },
  {
   "cell_type": "code",
   "execution_count": 31,
   "metadata": {},
   "outputs": [],
   "source": [
    "resize_and_save(\"/Users/fouad/Desktop/HU - Master Data Driven Design/Graduation/Datasets/Original Datasets/Flickr_Bing/Plastic/Plastic Box\",\n",
    "                \"/Users/fouad/Desktop/HU - Master Data Driven Design/Graduation/Datasets/Manual Pictures/Converted/Plastic Box\",\n",
    "               \"/Users/fouad/Desktop/HU - Master Data Driven Design/Graduation/Datasets/Compiled Dataset/Plastic Box\",\n",
    "               \"Plastic_Box\")"
   ]
  },
  {
   "cell_type": "code",
   "execution_count": 32,
   "metadata": {},
   "outputs": [],
   "source": [
    "resize_and_save(\"/Users/fouad/Desktop/HU - Master Data Driven Design/Graduation/Datasets/Original Datasets/Flickr_Bing/Plastic/Plastic Round Container\",\n",
    "                \"/Users/fouad/Desktop/HU - Master Data Driven Design/Graduation/Datasets/Manual Pictures/Converted/Plastic Round Container\",\n",
    "               \"/Users/fouad/Desktop/HU - Master Data Driven Design/Graduation/Datasets/Compiled Dataset/Plastic Round Container\",\n",
    "               \"Plastic_Round_Container\")"
   ]
  },
  {
   "cell_type": "code",
   "execution_count": 34,
   "metadata": {},
   "outputs": [],
   "source": [
    "resize_and_save(\"/Users/fouad/Desktop/HU - Master Data Driven Design/Graduation/Datasets/Original Datasets/Flickr_Bing/Metal Can\",\n",
    "                \"/Users/fouad/Desktop/HU - Master Data Driven Design/Graduation/Datasets/Manual Pictures/Converted/Metal Can\",\n",
    "               \"/Users/fouad/Desktop/HU - Master Data Driven Design/Graduation/Datasets/Compiled Dataset/Metal Can\",\n",
    "               \"Metal_Can\")"
   ]
  },
  {
   "cell_type": "code",
   "execution_count": 35,
   "metadata": {},
   "outputs": [],
   "source": [
    "resize_and_save(\"/Users/fouad/Desktop/HU - Master Data Driven Design/Graduation/Datasets/Original Datasets/Flickr_Bing/Paper\",\n",
    "                \"/Users/fouad/Desktop/HU - Master Data Driven Design/Graduation/Datasets/Manual Pictures/Converted/Paper\",\n",
    "               \"/Users/fouad/Desktop/HU - Master Data Driven Design/Graduation/Datasets/Compiled Dataset/Paper\",\n",
    "               \"Paper\")"
   ]
  },
  {
   "cell_type": "code",
   "execution_count": 36,
   "metadata": {},
   "outputs": [],
   "source": [
    "resize_and_save(\"/Users/fouad/Desktop/HU - Master Data Driven Design/Graduation/Datasets/Original Datasets/Flickr_Bing/Rest\",\n",
    "                \"/Users/fouad/Desktop/HU - Master Data Driven Design/Graduation/Datasets/Manual Pictures/Converted/Rest\",\n",
    "               \"/Users/fouad/Desktop/HU - Master Data Driven Design/Graduation/Datasets/Compiled Dataset/Rest\",\n",
    "               \"Rest\")"
   ]
  },
  {
   "cell_type": "code",
   "execution_count": 6,
   "metadata": {},
   "outputs": [],
   "source": [
    "resize_and_save(\"/Users/fouad/Desktop/HU - Master Data Driven Design/Graduation/Datasets/Original Datasets/Flickr_Bing/Chips Bag\",\n",
    "                \"/Users/fouad/Desktop/HU - Master Data Driven Design/Graduation/Datasets/Manual Pictures/Converted/Chips Bag\",\n",
    "               \"/Users/fouad/Desktop/HU - Master Data Driven Design/Graduation/Datasets/Compiled Dataset/Chips Bag\",\n",
    "               \"Chips Bag\")"
   ]
  },
  {
   "cell_type": "code",
   "execution_count": 7,
   "metadata": {},
   "outputs": [],
   "source": [
    "resize_and_save(\"/Users/fouad/Desktop/HU - Master Data Driven Design/Graduation/Datasets/Original Datasets/Flickr_Bing/Organic\",\n",
    "                \"/Users/fouad/Desktop/HU - Master Data Driven Design/Graduation/Datasets/Manual Pictures/Converted/Organic\",\n",
    "               \"/Users/fouad/Desktop/HU - Master Data Driven Design/Graduation/Datasets/Compiled Dataset/Organic\",\n",
    "               \"Organic\")"
   ]
  },
  {
   "cell_type": "code",
   "execution_count": null,
   "metadata": {},
   "outputs": [],
   "source": []
  }
 ],
 "metadata": {
  "kernelspec": {
   "display_name": "Python 3",
   "language": "python",
   "name": "python3"
  },
  "language_info": {
   "codemirror_mode": {
    "name": "ipython",
    "version": 3
   },
   "file_extension": ".py",
   "mimetype": "text/x-python",
   "name": "python",
   "nbconvert_exporter": "python",
   "pygments_lexer": "ipython3",
   "version": "3.8.3"
  }
 },
 "nbformat": 4,
 "nbformat_minor": 4
}
